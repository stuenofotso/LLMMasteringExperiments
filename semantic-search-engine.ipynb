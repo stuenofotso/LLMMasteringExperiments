{
 "cells": [
  {
   "cell_type": "code",
   "execution_count": 8,
   "metadata": {},
   "outputs": [
    {
     "name": "stdout",
     "output_type": "stream",
     "text": [
      "Requirement already satisfied: transformers in /Users/steve/miniconda3/envs/llm/lib/python3.9/site-packages (4.45.1)\n",
      "Requirement already satisfied: filelock in /Users/steve/miniconda3/envs/llm/lib/python3.9/site-packages (from transformers) (3.16.1)\n",
      "Requirement already satisfied: huggingface-hub<1.0,>=0.23.2 in /Users/steve/miniconda3/envs/llm/lib/python3.9/site-packages (from transformers) (0.25.1)\n",
      "Requirement already satisfied: numpy>=1.17 in /Users/steve/miniconda3/envs/llm/lib/python3.9/site-packages (from transformers) (1.25.1)\n",
      "Requirement already satisfied: packaging>=20.0 in /Users/steve/miniconda3/envs/llm/lib/python3.9/site-packages (from transformers) (23.1)\n",
      "Requirement already satisfied: pyyaml>=5.1 in /Users/steve/miniconda3/envs/llm/lib/python3.9/site-packages (from transformers) (6.0.1)\n",
      "Requirement already satisfied: regex!=2019.12.17 in /Users/steve/miniconda3/envs/llm/lib/python3.9/site-packages (from transformers) (2023.6.3)\n",
      "Requirement already satisfied: requests in /Users/steve/miniconda3/envs/llm/lib/python3.9/site-packages (from transformers) (2.32.3)\n",
      "Requirement already satisfied: safetensors>=0.4.1 in /Users/steve/miniconda3/envs/llm/lib/python3.9/site-packages (from transformers) (0.4.5)\n",
      "Requirement already satisfied: tokenizers<0.21,>=0.20 in /Users/steve/miniconda3/envs/llm/lib/python3.9/site-packages (from transformers) (0.20.0)\n",
      "Requirement already satisfied: tqdm>=4.27 in /Users/steve/miniconda3/envs/llm/lib/python3.9/site-packages (from transformers) (4.66.5)\n",
      "Requirement already satisfied: fsspec>=2023.5.0 in /Users/steve/miniconda3/envs/llm/lib/python3.9/site-packages (from huggingface-hub<1.0,>=0.23.2->transformers) (2024.6.1)\n",
      "Requirement already satisfied: typing-extensions>=3.7.4.3 in /Users/steve/miniconda3/envs/llm/lib/python3.9/site-packages (from huggingface-hub<1.0,>=0.23.2->transformers) (4.12.2)\n",
      "Requirement already satisfied: charset-normalizer<4,>=2 in /Users/steve/miniconda3/envs/llm/lib/python3.9/site-packages (from requests->transformers) (3.2.0)\n",
      "Requirement already satisfied: idna<4,>=2.5 in /Users/steve/miniconda3/envs/llm/lib/python3.9/site-packages (from requests->transformers) (3.4)\n",
      "Requirement already satisfied: urllib3<3,>=1.21.1 in /Users/steve/miniconda3/envs/llm/lib/python3.9/site-packages (from requests->transformers) (2.0.4)\n",
      "Requirement already satisfied: certifi>=2017.4.17 in /Users/steve/miniconda3/envs/llm/lib/python3.9/site-packages (from requests->transformers) (2023.7.22)\n",
      "Requirement already satisfied: torch in /Users/steve/miniconda3/envs/llm/lib/python3.9/site-packages (2.2.2)\n",
      "Requirement already satisfied: filelock in /Users/steve/miniconda3/envs/llm/lib/python3.9/site-packages (from torch) (3.16.1)\n",
      "Requirement already satisfied: typing-extensions>=4.8.0 in /Users/steve/miniconda3/envs/llm/lib/python3.9/site-packages (from torch) (4.12.2)\n",
      "Requirement already satisfied: sympy in /Users/steve/miniconda3/envs/llm/lib/python3.9/site-packages (from torch) (1.13.3)\n",
      "Requirement already satisfied: networkx in /Users/steve/miniconda3/envs/llm/lib/python3.9/site-packages (from torch) (3.2.1)\n",
      "Requirement already satisfied: jinja2 in /Users/steve/miniconda3/envs/llm/lib/python3.9/site-packages (from torch) (3.1.2)\n",
      "Requirement already satisfied: fsspec in /Users/steve/miniconda3/envs/llm/lib/python3.9/site-packages (from torch) (2024.6.1)\n",
      "Requirement already satisfied: MarkupSafe>=2.0 in /Users/steve/miniconda3/envs/llm/lib/python3.9/site-packages (from jinja2->torch) (2.1.3)\n",
      "Requirement already satisfied: mpmath<1.4,>=1.1.0 in /Users/steve/miniconda3/envs/llm/lib/python3.9/site-packages (from sympy->torch) (1.3.0)\n",
      "Requirement already satisfied: datasets in /Users/steve/miniconda3/envs/llm/lib/python3.9/site-packages (3.0.1)\n",
      "Requirement already satisfied: filelock in /Users/steve/miniconda3/envs/llm/lib/python3.9/site-packages (from datasets) (3.16.1)\n",
      "Requirement already satisfied: numpy>=1.17 in /Users/steve/miniconda3/envs/llm/lib/python3.9/site-packages (from datasets) (1.25.1)\n",
      "Requirement already satisfied: pyarrow>=15.0.0 in /Users/steve/miniconda3/envs/llm/lib/python3.9/site-packages (from datasets) (17.0.0)\n",
      "Requirement already satisfied: dill<0.3.9,>=0.3.0 in /Users/steve/miniconda3/envs/llm/lib/python3.9/site-packages (from datasets) (0.3.8)\n",
      "Requirement already satisfied: pandas in /Users/steve/miniconda3/envs/llm/lib/python3.9/site-packages (from datasets) (2.0.3)\n",
      "Requirement already satisfied: requests>=2.32.2 in /Users/steve/miniconda3/envs/llm/lib/python3.9/site-packages (from datasets) (2.32.3)\n",
      "Requirement already satisfied: tqdm>=4.66.3 in /Users/steve/miniconda3/envs/llm/lib/python3.9/site-packages (from datasets) (4.66.5)\n",
      "Requirement already satisfied: xxhash in /Users/steve/miniconda3/envs/llm/lib/python3.9/site-packages (from datasets) (3.5.0)\n",
      "Requirement already satisfied: multiprocess in /Users/steve/miniconda3/envs/llm/lib/python3.9/site-packages (from datasets) (0.70.16)\n",
      "Requirement already satisfied: fsspec[http]<=2024.6.1,>=2023.1.0 in /Users/steve/miniconda3/envs/llm/lib/python3.9/site-packages (from datasets) (2024.6.1)\n",
      "Requirement already satisfied: aiohttp in /Users/steve/miniconda3/envs/llm/lib/python3.9/site-packages (from datasets) (3.8.5)\n",
      "Requirement already satisfied: huggingface-hub>=0.22.0 in /Users/steve/miniconda3/envs/llm/lib/python3.9/site-packages (from datasets) (0.25.1)\n",
      "Requirement already satisfied: packaging in /Users/steve/miniconda3/envs/llm/lib/python3.9/site-packages (from datasets) (23.1)\n",
      "Requirement already satisfied: pyyaml>=5.1 in /Users/steve/miniconda3/envs/llm/lib/python3.9/site-packages (from datasets) (6.0.1)\n",
      "Requirement already satisfied: attrs>=17.3.0 in /Users/steve/miniconda3/envs/llm/lib/python3.9/site-packages (from aiohttp->datasets) (23.1.0)\n",
      "Requirement already satisfied: charset-normalizer<4.0,>=2.0 in /Users/steve/miniconda3/envs/llm/lib/python3.9/site-packages (from aiohttp->datasets) (3.2.0)\n",
      "Requirement already satisfied: multidict<7.0,>=4.5 in /Users/steve/miniconda3/envs/llm/lib/python3.9/site-packages (from aiohttp->datasets) (6.0.4)\n",
      "Requirement already satisfied: async-timeout<5.0,>=4.0.0a3 in /Users/steve/miniconda3/envs/llm/lib/python3.9/site-packages (from aiohttp->datasets) (4.0.2)\n",
      "Requirement already satisfied: yarl<2.0,>=1.0 in /Users/steve/miniconda3/envs/llm/lib/python3.9/site-packages (from aiohttp->datasets) (1.9.2)\n",
      "Requirement already satisfied: frozenlist>=1.1.1 in /Users/steve/miniconda3/envs/llm/lib/python3.9/site-packages (from aiohttp->datasets) (1.4.0)\n",
      "Requirement already satisfied: aiosignal>=1.1.2 in /Users/steve/miniconda3/envs/llm/lib/python3.9/site-packages (from aiohttp->datasets) (1.3.1)\n",
      "Requirement already satisfied: typing-extensions>=3.7.4.3 in /Users/steve/miniconda3/envs/llm/lib/python3.9/site-packages (from huggingface-hub>=0.22.0->datasets) (4.12.2)\n",
      "Requirement already satisfied: idna<4,>=2.5 in /Users/steve/miniconda3/envs/llm/lib/python3.9/site-packages (from requests>=2.32.2->datasets) (3.4)\n",
      "Requirement already satisfied: urllib3<3,>=1.21.1 in /Users/steve/miniconda3/envs/llm/lib/python3.9/site-packages (from requests>=2.32.2->datasets) (2.0.4)\n",
      "Requirement already satisfied: certifi>=2017.4.17 in /Users/steve/miniconda3/envs/llm/lib/python3.9/site-packages (from requests>=2.32.2->datasets) (2023.7.22)\n",
      "Requirement already satisfied: python-dateutil>=2.8.2 in /Users/steve/miniconda3/envs/llm/lib/python3.9/site-packages (from pandas->datasets) (2.8.2)\n",
      "Requirement already satisfied: pytz>=2020.1 in /Users/steve/miniconda3/envs/llm/lib/python3.9/site-packages (from pandas->datasets) (2023.3)\n",
      "Requirement already satisfied: tzdata>=2022.1 in /Users/steve/miniconda3/envs/llm/lib/python3.9/site-packages (from pandas->datasets) (2023.3)\n",
      "Requirement already satisfied: six>=1.5 in /Users/steve/miniconda3/envs/llm/lib/python3.9/site-packages (from python-dateutil>=2.8.2->pandas->datasets) (1.16.0)\n",
      "Collecting sentence_transformers\n",
      "  Obtaining dependency information for sentence_transformers from https://files.pythonhosted.org/packages/75/0c/0bbbf03748c3c7c69f41f016b14cbee946cbd8880d0fb91a05c6f7b7a176/sentence_transformers-3.1.1-py3-none-any.whl.metadata\n",
      "  Downloading sentence_transformers-3.1.1-py3-none-any.whl.metadata (10 kB)\n",
      "Requirement already satisfied: transformers<5.0.0,>=4.38.0 in /Users/steve/miniconda3/envs/llm/lib/python3.9/site-packages (from sentence_transformers) (4.45.1)\n",
      "Requirement already satisfied: tqdm in /Users/steve/miniconda3/envs/llm/lib/python3.9/site-packages (from sentence_transformers) (4.66.5)\n",
      "Requirement already satisfied: torch>=1.11.0 in /Users/steve/miniconda3/envs/llm/lib/python3.9/site-packages (from sentence_transformers) (2.2.2)\n",
      "Requirement already satisfied: scikit-learn in /Users/steve/miniconda3/envs/llm/lib/python3.9/site-packages (from sentence_transformers) (1.3.0)\n",
      "Requirement already satisfied: scipy in /Users/steve/miniconda3/envs/llm/lib/python3.9/site-packages (from sentence_transformers) (1.11.1)\n",
      "Requirement already satisfied: huggingface-hub>=0.19.3 in /Users/steve/miniconda3/envs/llm/lib/python3.9/site-packages (from sentence_transformers) (0.25.1)\n",
      "Requirement already satisfied: Pillow in /Users/steve/miniconda3/envs/llm/lib/python3.9/site-packages (from sentence_transformers) (10.0.0)\n",
      "Requirement already satisfied: filelock in /Users/steve/miniconda3/envs/llm/lib/python3.9/site-packages (from huggingface-hub>=0.19.3->sentence_transformers) (3.16.1)\n",
      "Requirement already satisfied: fsspec>=2023.5.0 in /Users/steve/miniconda3/envs/llm/lib/python3.9/site-packages (from huggingface-hub>=0.19.3->sentence_transformers) (2024.6.1)\n",
      "Requirement already satisfied: packaging>=20.9 in /Users/steve/miniconda3/envs/llm/lib/python3.9/site-packages (from huggingface-hub>=0.19.3->sentence_transformers) (23.1)\n",
      "Requirement already satisfied: pyyaml>=5.1 in /Users/steve/miniconda3/envs/llm/lib/python3.9/site-packages (from huggingface-hub>=0.19.3->sentence_transformers) (6.0.1)\n",
      "Requirement already satisfied: requests in /Users/steve/miniconda3/envs/llm/lib/python3.9/site-packages (from huggingface-hub>=0.19.3->sentence_transformers) (2.32.3)\n",
      "Requirement already satisfied: typing-extensions>=3.7.4.3 in /Users/steve/miniconda3/envs/llm/lib/python3.9/site-packages (from huggingface-hub>=0.19.3->sentence_transformers) (4.12.2)\n",
      "Requirement already satisfied: sympy in /Users/steve/miniconda3/envs/llm/lib/python3.9/site-packages (from torch>=1.11.0->sentence_transformers) (1.13.3)\n",
      "Requirement already satisfied: networkx in /Users/steve/miniconda3/envs/llm/lib/python3.9/site-packages (from torch>=1.11.0->sentence_transformers) (3.2.1)\n",
      "Requirement already satisfied: jinja2 in /Users/steve/miniconda3/envs/llm/lib/python3.9/site-packages (from torch>=1.11.0->sentence_transformers) (3.1.2)\n",
      "Requirement already satisfied: numpy>=1.17 in /Users/steve/miniconda3/envs/llm/lib/python3.9/site-packages (from transformers<5.0.0,>=4.38.0->sentence_transformers) (1.25.1)\n",
      "Requirement already satisfied: regex!=2019.12.17 in /Users/steve/miniconda3/envs/llm/lib/python3.9/site-packages (from transformers<5.0.0,>=4.38.0->sentence_transformers) (2023.6.3)\n",
      "Requirement already satisfied: safetensors>=0.4.1 in /Users/steve/miniconda3/envs/llm/lib/python3.9/site-packages (from transformers<5.0.0,>=4.38.0->sentence_transformers) (0.4.5)\n",
      "Requirement already satisfied: tokenizers<0.21,>=0.20 in /Users/steve/miniconda3/envs/llm/lib/python3.9/site-packages (from transformers<5.0.0,>=4.38.0->sentence_transformers) (0.20.0)\n",
      "Requirement already satisfied: joblib>=1.1.1 in /Users/steve/miniconda3/envs/llm/lib/python3.9/site-packages (from scikit-learn->sentence_transformers) (1.3.1)\n",
      "Requirement already satisfied: threadpoolctl>=2.0.0 in /Users/steve/miniconda3/envs/llm/lib/python3.9/site-packages (from scikit-learn->sentence_transformers) (3.2.0)\n",
      "Requirement already satisfied: MarkupSafe>=2.0 in /Users/steve/miniconda3/envs/llm/lib/python3.9/site-packages (from jinja2->torch>=1.11.0->sentence_transformers) (2.1.3)\n",
      "Requirement already satisfied: charset-normalizer<4,>=2 in /Users/steve/miniconda3/envs/llm/lib/python3.9/site-packages (from requests->huggingface-hub>=0.19.3->sentence_transformers) (3.2.0)\n",
      "Requirement already satisfied: idna<4,>=2.5 in /Users/steve/miniconda3/envs/llm/lib/python3.9/site-packages (from requests->huggingface-hub>=0.19.3->sentence_transformers) (3.4)\n",
      "Requirement already satisfied: urllib3<3,>=1.21.1 in /Users/steve/miniconda3/envs/llm/lib/python3.9/site-packages (from requests->huggingface-hub>=0.19.3->sentence_transformers) (2.0.4)\n",
      "Requirement already satisfied: certifi>=2017.4.17 in /Users/steve/miniconda3/envs/llm/lib/python3.9/site-packages (from requests->huggingface-hub>=0.19.3->sentence_transformers) (2023.7.22)\n",
      "Requirement already satisfied: mpmath<1.4,>=1.1.0 in /Users/steve/miniconda3/envs/llm/lib/python3.9/site-packages (from sympy->torch>=1.11.0->sentence_transformers) (1.3.0)\n",
      "Downloading sentence_transformers-3.1.1-py3-none-any.whl (245 kB)\n",
      "\u001b[2K   \u001b[90m━━━━━━━━━━━━━━━━━━━━━━━━━━━━━━━━━━━━━━━━\u001b[0m \u001b[32m245.3/245.3 kB\u001b[0m \u001b[31m5.6 MB/s\u001b[0m eta \u001b[36m0:00:00\u001b[0ma \u001b[36m0:00:01\u001b[0m\n",
      "\u001b[?25hInstalling collected packages: sentence_transformers\n",
      "Successfully installed sentence_transformers-3.1.1\n"
     ]
    }
   ],
   "source": [
    "! pip install transformers\n",
    "! pip install torch\n",
    "! pip install datasets\n",
    "! pip install sentence_transformers"
   ]
  },
  {
   "cell_type": "code",
   "execution_count": 10,
   "metadata": {},
   "outputs": [],
   "source": [
    "from datasets import load_dataset\n",
    "from sentence_transformers import SentenceTransformer, util\n",
    "import torch"
   ]
  },
  {
   "cell_type": "code",
   "execution_count": 4,
   "metadata": {},
   "outputs": [],
   "source": [
    "dataset = load_dataset(\"multi_news\", split=\"test\")"
   ]
  },
  {
   "cell_type": "code",
   "execution_count": 6,
   "metadata": {},
   "outputs": [
    {
     "data": {
      "text/html": [
       "<div>\n",
       "<style scoped>\n",
       "    .dataframe tbody tr th:only-of-type {\n",
       "        vertical-align: middle;\n",
       "    }\n",
       "\n",
       "    .dataframe tbody tr th {\n",
       "        vertical-align: top;\n",
       "    }\n",
       "\n",
       "    .dataframe thead th {\n",
       "        text-align: right;\n",
       "    }\n",
       "</style>\n",
       "<table border=\"1\" class=\"dataframe\">\n",
       "  <thead>\n",
       "    <tr style=\"text-align: right;\">\n",
       "      <th></th>\n",
       "      <th>document</th>\n",
       "      <th>summary</th>\n",
       "    </tr>\n",
       "  </thead>\n",
       "  <tbody>\n",
       "    <tr>\n",
       "      <th>4830</th>\n",
       "      <td>Tweet with a location \\n \\n You can add locati...</td>\n",
       "      <td>– Denis Finley has taken to Twitter to call Po...</td>\n",
       "    </tr>\n",
       "    <tr>\n",
       "      <th>1255</th>\n",
       "      <td>CNN host Piers Morgan just called to discuss h...</td>\n",
       "      <td>– CNN's Piers Morgan thinks gun-rights propone...</td>\n",
       "    </tr>\n",
       "    <tr>\n",
       "      <th>80</th>\n",
       "      <td>White House communications director Anthony Sc...</td>\n",
       "      <td>– New White House communications director Anth...</td>\n",
       "    </tr>\n",
       "    <tr>\n",
       "      <th>3044</th>\n",
       "      <td>CLOSE Scientists say they've found archaeologi...</td>\n",
       "      <td>– Scientists say they have the first physical ...</td>\n",
       "    </tr>\n",
       "    <tr>\n",
       "      <th>4486</th>\n",
       "      <td>Click image above to view graphic \\n \\n Althou...</td>\n",
       "      <td>– Scientists are calling it a breakthrough and...</td>\n",
       "    </tr>\n",
       "    <tr>\n",
       "      <th>...</th>\n",
       "      <td>...</td>\n",
       "      <td>...</td>\n",
       "    </tr>\n",
       "    <tr>\n",
       "      <th>2157</th>\n",
       "      <td>On Thursday afternoon, President-elect Donald ...</td>\n",
       "      <td>– He who pays the piper calls the tune, and it...</td>\n",
       "    </tr>\n",
       "    <tr>\n",
       "      <th>3615</th>\n",
       "      <td>Donald Trump said Sunday that in the wake of t...</td>\n",
       "      <td>– In the wake of the Orlando shooting one week...</td>\n",
       "    </tr>\n",
       "    <tr>\n",
       "      <th>2751</th>\n",
       "      <td>Nashua police believe body found is that of mi...</td>\n",
       "      <td>– Sad news out of Nashua, NH, after police say...</td>\n",
       "    </tr>\n",
       "    <tr>\n",
       "      <th>622</th>\n",
       "      <td>The public school systems in New York and Los ...</td>\n",
       "      <td>– Some 640,000 kids in the nation's second-lar...</td>\n",
       "    </tr>\n",
       "    <tr>\n",
       "      <th>2252</th>\n",
       "      <td>For the past 3 years Lauriann has been cared f...</td>\n",
       "      <td>– A Utah woman owes big thanks to Taylor Swift...</td>\n",
       "    </tr>\n",
       "  </tbody>\n",
       "</table>\n",
       "<p>2000 rows × 2 columns</p>\n",
       "</div>"
      ],
      "text/plain": [
       "                                               document  \\\n",
       "4830  Tweet with a location \\n \\n You can add locati...   \n",
       "1255  CNN host Piers Morgan just called to discuss h...   \n",
       "80    White House communications director Anthony Sc...   \n",
       "3044  CLOSE Scientists say they've found archaeologi...   \n",
       "4486  Click image above to view graphic \\n \\n Althou...   \n",
       "...                                                 ...   \n",
       "2157  On Thursday afternoon, President-elect Donald ...   \n",
       "3615  Donald Trump said Sunday that in the wake of t...   \n",
       "2751  Nashua police believe body found is that of mi...   \n",
       "622   The public school systems in New York and Los ...   \n",
       "2252  For the past 3 years Lauriann has been cared f...   \n",
       "\n",
       "                                                summary  \n",
       "4830  – Denis Finley has taken to Twitter to call Po...  \n",
       "1255  – CNN's Piers Morgan thinks gun-rights propone...  \n",
       "80    – New White House communications director Anth...  \n",
       "3044  – Scientists say they have the first physical ...  \n",
       "4486  – Scientists are calling it a breakthrough and...  \n",
       "...                                                 ...  \n",
       "2157  – He who pays the piper calls the tune, and it...  \n",
       "3615  – In the wake of the Orlando shooting one week...  \n",
       "2751  – Sad news out of Nashua, NH, after police say...  \n",
       "622   – Some 640,000 kids in the nation's second-lar...  \n",
       "2252  – A Utah woman owes big thanks to Taylor Swift...  \n",
       "\n",
       "[2000 rows x 2 columns]"
      ]
     },
     "execution_count": 6,
     "metadata": {},
     "output_type": "execute_result"
    }
   ],
   "source": [
    "df = dataset.to_pandas().sample(2000, random_state=42)\n",
    "df"
   ]
  },
  {
   "cell_type": "code",
   "execution_count": 3,
   "metadata": {},
   "outputs": [
    {
     "name": "stderr",
     "output_type": "stream",
     "text": [
      "/Users/steve/miniconda3/envs/llm/lib/python3.9/site-packages/transformers/tokenization_utils_base.py:1617: FutureWarning: `clean_up_tokenization_spaces` was not set. It will be set to `True` by default. This behavior will be deprecated in transformers v4.45, and will be then set to `False` by default. For more details check this issue: https://github.com/huggingface/transformers/issues/31884\n",
      "  warnings.warn(\n"
     ]
    }
   ],
   "source": [
    "model = SentenceTransformer(\"all-MiniLM-L6-v2\")"
   ]
  },
  {
   "cell_type": "code",
   "execution_count": 7,
   "metadata": {},
   "outputs": [],
   "source": [
    "passage_embeddings = list(model.encode(df[\"summary\"].tolist()))"
   ]
  },
  {
   "cell_type": "code",
   "execution_count": 13,
   "metadata": {},
   "outputs": [
    {
     "data": {
      "text/plain": [
       "['– The tsunami that killed hundreds, possibly thousands of people after an earthquake in Indonesia on Friday was much bigger and more devastating than would normally be expected after that kind of quak...',\n",
       " '– A sad milestone out of Japan: Two weeks after the quake struck, its official death toll has broken the 10,000 mark—and that number is still on the rise, with more than 17,400 missing. Police estimat...',\n",
       " '– When you live near a major dam, the last thing you want to hear is that the integrity of it has been \"compromised\" by landslides. But that\\'s exactly what residents living below North Carolina\\'s Lake...']"
      ]
     },
     "execution_count": 13,
     "metadata": {},
     "output_type": "execute_result"
    }
   ],
   "source": [
    "# query = \"Find me some articles about technology and AI\"\n",
    "query = \"Natural disasters\"\n",
    "\n",
    "query_embedddings = model.encode(query)\n",
    "\n",
    "similarities = util.cos_sim(query_embedddings, passage_embeddings)\n",
    "\n",
    "top_indices = torch.topk(similarities.flatten(), k=3).indices\n",
    "\n",
    "top_relevant_passages = [df.iloc[x.item()][\"summary\"][:200]+\"...\" for x in top_indices]\n",
    "top_relevant_passages"
   ]
  }
 ],
 "metadata": {
  "kernelspec": {
   "display_name": "llm",
   "language": "python",
   "name": "python3"
  },
  "language_info": {
   "codemirror_mode": {
    "name": "ipython",
    "version": 3
   },
   "file_extension": ".py",
   "mimetype": "text/x-python",
   "name": "python",
   "nbconvert_exporter": "python",
   "pygments_lexer": "ipython3",
   "version": "3.9.17"
  }
 },
 "nbformat": 4,
 "nbformat_minor": 2
}
